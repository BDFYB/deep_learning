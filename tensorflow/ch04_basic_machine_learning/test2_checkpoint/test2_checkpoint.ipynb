{
 "cells": [
  {
   "cell_type": "code",
   "execution_count": 14,
   "metadata": {
    "collapsed": true
   },
   "outputs": [],
   "source": [
    "import tensorflow as tf\n",
    "import numpy as np\n",
    "import os\n",
    "import sys"
   ]
  },
  {
   "cell_type": "code",
   "execution_count": 37,
   "metadata": {},
   "outputs": [
    {
     "name": "stdout",
     "output_type": "stream",
     "text": [
      "1\n",
      "loss:  [0]\n",
      "2\n",
      "loss:  [0]\n",
      "3\n",
      "loss:  [0]\n",
      "4\n",
      "loss:  [0]\n",
      "5\n",
      "loss:  [0]\n"
     ]
    }
   ],
   "source": [
    "def inference(X):\n",
    "    #计算推断模型在数据X上的输出，并将结果返回\n",
    "    pass\n",
    "\n",
    "def loss(X, Y):\n",
    "    #计算损失函数\n",
    "    return tf.constant(0)\n",
    "\n",
    "def inputs():\n",
    "    #读取或生成训练数据X极其label\n",
    "    return np.array([1, 1])\n",
    "\n",
    "def train(total_loss):\n",
    "    #依据计算的总损失训练参数\n",
    "    return tf.add(total_loss, 1)\n",
    "\n",
    "def evaluate(sess, X, Y):\n",
    "    #对训练的模型进行评估\n",
    "    pass\n",
    "\n",
    "a = tf.Variable(0)\n",
    "saver = tf.train.Saver()\n",
    "with tf.Session() as sess:\n",
    "    init = tf.initialize_all_variables()\n",
    "    sess.run(init)\n",
    "    X, Y = inputs()\n",
    "    total_loss = loss(X, Y)\n",
    "    train_op  = train(total_loss)\n",
    "    coord = tf.train.Coordinator()\n",
    "    threads = tf.train.start_queue_runners(sess = sess, coord = coord)\n",
    "\n",
    "    initial_step = 0\n",
    "    \"\"\"在命令行执行，这么调总报找不到文件\n",
    "    data_dir = '/Users/baidu/AI/deep_learning/tensorflow/ch04_basic_machine_learning/test2_checkpoint'\n",
    "    ckpt = tf.train.get_checkpoint_state(data_dir)\n",
    "    if ckpt and ckpt.model_checkpoint_path:\n",
    "        print ckpt.model_checkpoint_path\n",
    "        print data_dir + '/' + ckpt.model_checkpoint_path\n",
    "        saver.restore(sess, ckpt.model_checkpoint_path)\n",
    "        initial_step = int(ckpt.model_checkpoint_path.rsplit('-', 1)[1])\n",
    "        print \"continue at step: %s\" % initial_step\n",
    "     \"\"\"\n",
    "    training_steps = 500\n",
    "    for step in range(initial_step, training_steps):\n",
    "        sess.run([train_op])\n",
    "        if step % 100 == 0:\n",
    "            sess.run(a.assign_add(1))\n",
    "            print \"loss: \", sess.run([total_loss])\n",
    "        \n",
    "        if step % 300 == 0:\n",
    "            saver.save(sess, 'my_module', global_step = step)\n",
    "    evaluate(sess, X, Y)\n",
    "    saver.save(sess, 'my_module', global_step = training_steps)\n",
    "    \n",
    "    \n",
    "    coord.request_stop()\n",
    "    coord.join(threads)\n",
    "    sess.close()"
   ]
  },
  {
   "cell_type": "code",
   "execution_count": null,
   "metadata": {
    "collapsed": true
   },
   "outputs": [],
   "source": []
  }
 ],
 "metadata": {
  "kernelspec": {
   "display_name": "Python 2",
   "language": "python",
   "name": "python2"
  },
  "language_info": {
   "codemirror_mode": {
    "name": "ipython",
    "version": 2
   },
   "file_extension": ".py",
   "mimetype": "text/x-python",
   "name": "python",
   "nbconvert_exporter": "python",
   "pygments_lexer": "ipython2",
   "version": "2.7.10"
  }
 },
 "nbformat": 4,
 "nbformat_minor": 2
}
