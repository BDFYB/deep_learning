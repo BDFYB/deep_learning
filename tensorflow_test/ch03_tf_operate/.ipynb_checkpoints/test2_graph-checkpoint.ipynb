{
 "cells": [
  {
   "cell_type": "code",
   "execution_count": 1,
   "metadata": {
    "collapsed": true
   },
   "outputs": [],
   "source": [
    "import numpy as np\n",
    "import tensorflow as tf"
   ]
  },
  {
   "cell_type": "code",
   "execution_count": 4,
   "metadata": {},
   "outputs": [
    {
     "name": "stdout",
     "output_type": "stream",
     "text": [
      "6\n"
     ]
    }
   ],
   "source": [
    "g1 = tf.get_default_graph()\n",
    "g2 = tf.Graph()\n",
    "with g1.as_default():\n",
    "    ag1 = tf.constant(3, name = \"c_a_in_g1\")\n",
    "    bg1 = tf.add(ag1, ag1, name = \"r_b_in_g1\")\n",
    "\n",
    "with g2.as_default():\n",
    "    ag2 = np.array([2, 4])\n",
    "    bg2 = np.array([3, 1])\n",
    "    cg2 = tf.mul(ag2, bg2)\n",
    "sess = tf.Session(graph = g2)\n",
    "writer = tf.train.SummaryWriter('./test2_graph', sess.graph)\n",
    "writer.close()\n",
    "sess.close()\n",
    "with tf.Session(graph = g1) as sess2:\n",
    "    print sess2.run(bg1)"
   ]
  },
  {
   "cell_type": "code",
   "execution_count": null,
   "metadata": {
    "collapsed": true
   },
   "outputs": [],
   "source": []
  }
 ],
 "metadata": {
  "kernelspec": {
   "display_name": "Python 2",
   "language": "python",
   "name": "python2"
  },
  "language_info": {
   "codemirror_mode": {
    "name": "ipython",
    "version": 2
   },
   "file_extension": ".py",
   "mimetype": "text/x-python",
   "name": "python",
   "nbconvert_exporter": "python",
   "pygments_lexer": "ipython2",
   "version": "2.7.10"
  }
 },
 "nbformat": 4,
 "nbformat_minor": 2
}
