{
 "cells": [
  {
   "cell_type": "code",
   "execution_count": 1,
   "metadata": {
    "collapsed": true
   },
   "outputs": [],
   "source": [
    "import numpy as np\n",
    "import tensorflow as tf"
   ]
  },
  {
   "cell_type": "code",
   "execution_count": 2,
   "metadata": {},
   "outputs": [
    {
     "name": "stdout",
     "output_type": "stream",
     "text": [
      "[6 4]\n",
      "6\n"
     ]
    }
   ],
   "source": [
    "#get handler of default graph\n",
    "g1 = tf.get_default_graph()\n",
    "g2 = tf.Graph()\n",
    "#make op in g1\n",
    "with g1.as_default():\n",
    "    ag1 = tf.constant(3, name = \"c_a_in_g1\")\n",
    "    bg1 = tf.add(ag1, ag1, name = \"r_b_in_g1\")\n",
    "#make op in g2\n",
    "with g2.as_default():\n",
    "    ag2 = np.array([2, 4])\n",
    "    bg2 = np.array([3, 1])\n",
    "    cg2 = tf.mul(ag2, bg2)\n",
    "#build session with specific graph\n",
    "sess = tf.Session(graph = g2)\n",
    "print sess.run(cg2)\n",
    "writer = tf.train.SummaryWriter('./tensorboard_test2_graph', sess.graph)\n",
    "writer.close()\n",
    "sess.close()\n",
    "with tf.Session(graph = g1) as sess2:\n",
    "    print sess2.run(bg1)"
   ]
  },
  {
   "cell_type": "code",
   "execution_count": null,
   "metadata": {
    "collapsed": true
   },
   "outputs": [],
   "source": []
  }
 ],
 "metadata": {
  "kernelspec": {
   "display_name": "Python 2",
   "language": "python",
   "name": "python2"
  },
  "language_info": {
   "codemirror_mode": {
    "name": "ipython",
    "version": 2
   },
   "file_extension": ".py",
   "mimetype": "text/x-python",
   "name": "python",
   "nbconvert_exporter": "python",
   "pygments_lexer": "ipython2",
   "version": "2.7.10"
  }
 },
 "nbformat": 4,
 "nbformat_minor": 2
}
