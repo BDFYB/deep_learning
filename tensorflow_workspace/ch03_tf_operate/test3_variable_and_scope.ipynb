{
 "cells": [
  {
   "cell_type": "code",
   "execution_count": 1,
   "metadata": {
    "collapsed": true
   },
   "outputs": [],
   "source": [
    "import numpy as np\n",
    "import tensorflow as tf"
   ]
  },
  {
   "cell_type": "code",
   "execution_count": 3,
   "metadata": {},
   "outputs": [
    {
     "name": "stdout",
     "output_type": "stream",
     "text": [
      "8\n",
      "9\n"
     ]
    }
   ],
   "source": [
    "g1 = tf.Graph()\n",
    "with g1.as_default():\n",
    "    my_var = tf.Variable(3, name = \"var1\")\n",
    "    add = tf.add(5, my_var)\n",
    "    zeros = tf.zeros([2, 3])\n",
    "    ones = tf.ones([3, 2])\n",
    "    #initial variable\n",
    "    init = tf.initialize_all_variables()\n",
    "    #change value of var\n",
    "    change_val = my_var.assign(4)\n",
    "\n",
    "sess = tf.Session(graph = g1)\n",
    "#will throw exception if not initialezed\n",
    "sess.run(init)\n",
    "print sess.run(add)\n",
    "\n",
    "sess.run(change_val)\n",
    "print sess.run(add)\n",
    "writer = tf.summary.FileWriter('./tensorboard_test3_variable', sess.graph)\n",
    "writer.close()"
   ]
  },
  {
   "cell_type": "code",
   "execution_count": 4,
   "metadata": {
    "collapsed": true
   },
   "outputs": [],
   "source": [
    "with tf.name_scope(\"scope_a\"):\n",
    "    a_dat = tf.add(1, 2, name = \"a_scope_add\")\n",
    "    a_bat = tf.mul(a_dat, 2, name = \"a_mul\")\n",
    "with tf.name_scope(\"scope_b\"):\n",
    "    b_dat = tf.add(1, 2, name = \"b_scope_add\")\n",
    "    b_bat = tf.mul(b_dat, 2, name = \"b_mul\")\n",
    "output = tf.add(a_bat, b_bat, name = \"total_output\")\n",
    "writer2 = tf.summary.FileWriter('./tensorboard_test3_scope', graph = tf.get_default_graph())\n",
    "writer2.close()"
   ]
  },
  {
   "cell_type": "code",
   "execution_count": null,
   "metadata": {
    "collapsed": true
   },
   "outputs": [],
   "source": []
  }
 ],
 "metadata": {
  "kernelspec": {
   "display_name": "Python 2",
   "language": "python",
   "name": "python2"
  },
  "language_info": {
   "codemirror_mode": {
    "name": "ipython",
    "version": 2
   },
   "file_extension": ".py",
   "mimetype": "text/x-python",
   "name": "python",
   "nbconvert_exporter": "python",
   "pygments_lexer": "ipython2",
   "version": "2.7.10"
  }
 },
 "nbformat": 4,
 "nbformat_minor": 2
}
